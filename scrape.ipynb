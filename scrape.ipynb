{
 "cells": [
  {
   "cell_type": "code",
   "execution_count": 12,
   "metadata": {},
   "outputs": [],
   "source": [
    "# Import Libraries\n",
    "import requests\n",
    "from bs4 import BeautifulSoup\n",
    "import time\n",
    "import csv\n",
    "import pandas as pd\n",
    "import numpy as np\n",
    "from sqlalchemy import create_engine\n"
   ]
  },
  {
   "cell_type": "code",
   "execution_count": 13,
   "metadata": {},
   "outputs": [],
   "source": [
    "# Set URL and initiate beautiful soup\n",
    "url = 'https://www.findaphd.com/phds/united-kingdom/?g0w900&PG={}'\n",
    "response = requests.get(url)\n",
    "\n",
    "soup = BeautifulSoup(response.content, 'html.parser')\n"
   ]
  },
  {
   "cell_type": "code",
   "execution_count": 14,
   "metadata": {},
   "outputs": [],
   "source": [
    "\n",
    "# Retrieve PhD data from URL\n",
    "def get_data_from_url(url):\n",
    "    response = requests.get(url)\n",
    "    data = []\n",
    "    if response.status_code == 200:\n",
    "        soup = BeautifulSoup(response.content, 'html.parser')\n",
    "        div_elements = soup.find_all('div', class_='w-100 card shadow-sm p-4')\n",
    "        for div in div_elements:\n",
    "            # Scrape data by tag\n",
    "            project_url = div.select_one('a.h4.text-dark')['href']\n",
    "            project_title = div.select_one('a.h4.text-dark')['title']\n",
    "            university_name = div.select_one('span.phd-result__dept-inst--title').text\n",
    "            supervisors_info = div.select_one('a.phd-result__key-info.super')\n",
    "            if supervisors_info:\n",
    "                supervisors_info = supervisors_info.text.replace('\\xa0', ' ').strip()\n",
    "            else:\n",
    "                supervisors_info = \"N/A\"\n",
    "            applications_info = div.select_one('a.hoverTitle.subButton.badge.text-wrap.badge-light.card-badge.p-2.m-1.font-weight-light').text.replace('\\xa0', ' ').strip()\n",
    "\n",
    "            # Create a dictionary of data\n",
    "            result_dict = {\n",
    "                'project_title': project_title,\n",
    "                'project_url': project_url,\n",
    "                'university_name': university_name,\n",
    "                'supervisors_info': supervisors_info,\n",
    "                'applications_info': applications_info\n",
    "            }\n",
    "\n",
    "            data.append(result_dict)\n",
    "        return data\n",
    "    else:\n",
    "        return None\n"
   ]
  },
  {
   "cell_type": "code",
   "execution_count": 15,
   "metadata": {},
   "outputs": [],
   "source": [
    "# Loop through all pages\n",
    "def scrape_multiple_pages(start_page, end_page):\n",
    "    base_url = 'https://www.findaphd.com/phds/united-kingdom/?g0w900&PG={}'\n",
    "\n",
    "    all_data = []\n",
    "    for page_number in range(start_page, end_page + 1):\n",
    "        url = base_url.format(page_number)\n",
    "        data = get_data_from_url(url)\n",
    "        if data:\n",
    "            all_data.extend(data)\n",
    "            print(f\"page {page_number} and {len(data)}\")\n",
    "\n",
    "        # Add a 1 second delay between requests to avoid getting shut out by servers\n",
    "        time.sleep(1)\n",
    "\n",
    "    return all_data\n"
   ]
  },
  {
   "cell_type": "code",
   "execution_count": 16,
   "metadata": {},
   "outputs": [],
   "source": [
    "# Find last page number\n",
    "a_element = soup.find(\"li\", class_=\"on page-item\").find(\"a\", class_=\"page-link text-dark\")\n",
    "\n",
    "if a_element:\n",
    "    end_page_number = int(a_element.text)\n",
    "else:\n",
    "    print(\"Element not found.\")\n"
   ]
  },
  {
   "cell_type": "code",
   "execution_count": 17,
   "metadata": {},
   "outputs": [],
   "source": [
    "# Append all pages from website\n",
    "start_page_number = 1\n",
    "page_numbers = [num for num in range(start_page_number, end_page_number + 1, 30)]\n",
    "page_numbers.append(end_page_number)\n"
   ]
  },
  {
   "cell_type": "code",
   "execution_count": 18,
   "metadata": {},
   "outputs": [
    {
     "name": "stdout",
     "output_type": "stream",
     "text": [
      "page 1 and 15\n",
      "page 2 and 15\n",
      "page 3 and 15\n",
      "page 4 and 15\n",
      "page 5 and 15\n"
     ]
    }
   ],
   "source": [
    "\n",
    "# Scrape data! (B.N. we ran later tests using subsets of data, hence the results below. If you use the code now, you will receive all entries from FindaPhd)\n",
    "result_data = scrape_multiple_pages(start_page_number, end_page_number+1)\n"
   ]
  },
  {
   "cell_type": "code",
   "execution_count": 19,
   "metadata": {},
   "outputs": [],
   "source": [
    "# Convert the list of dictionaries into Pandas DataFrame\n",
    "df = pd.DataFrame(result_data)\n",
    "\n",
    "# Save as CSV file\n",
    "df.to_csv('output.csv', index=False)\n"
   ]
  },
  {
   "cell_type": "code",
   "execution_count": 20,
   "metadata": {},
   "outputs": [
    {
     "data": {
      "text/html": [
       "<div>\n",
       "<style scoped>\n",
       "    .dataframe tbody tr th:only-of-type {\n",
       "        vertical-align: middle;\n",
       "    }\n",
       "\n",
       "    .dataframe tbody tr th {\n",
       "        vertical-align: top;\n",
       "    }\n",
       "\n",
       "    .dataframe thead th {\n",
       "        text-align: right;\n",
       "    }\n",
       "</style>\n",
       "<table border=\"1\" class=\"dataframe\">\n",
       "  <thead>\n",
       "    <tr style=\"text-align: right;\">\n",
       "      <th></th>\n",
       "      <th>project_title</th>\n",
       "      <th>project_url</th>\n",
       "      <th>university_name</th>\n",
       "      <th>supervisors_info</th>\n",
       "      <th>applications_info</th>\n",
       "    </tr>\n",
       "  </thead>\n",
       "  <tbody>\n",
       "    <tr>\n",
       "      <th>count</th>\n",
       "      <td>75</td>\n",
       "      <td>75</td>\n",
       "      <td>75</td>\n",
       "      <td>75</td>\n",
       "      <td>75</td>\n",
       "    </tr>\n",
       "    <tr>\n",
       "      <th>unique</th>\n",
       "      <td>75</td>\n",
       "      <td>75</td>\n",
       "      <td>13</td>\n",
       "      <td>59</td>\n",
       "      <td>12</td>\n",
       "    </tr>\n",
       "    <tr>\n",
       "      <th>top</th>\n",
       "      <td>PhD Research Project: Effect of accelerated ca...</td>\n",
       "      <td>/phds/project/effect-of-accelerated-carbonatio...</td>\n",
       "      <td>Kingston University</td>\n",
       "      <td>Supervisor: Dr I Centre for Additive Manufacture</td>\n",
       "      <td>Year round applications</td>\n",
       "    </tr>\n",
       "    <tr>\n",
       "      <th>freq</th>\n",
       "      <td>1</td>\n",
       "      <td>1</td>\n",
       "      <td>55</td>\n",
       "      <td>4</td>\n",
       "      <td>62</td>\n",
       "    </tr>\n",
       "  </tbody>\n",
       "</table>\n",
       "</div>"
      ],
      "text/plain": [
       "                                            project_title  \\\n",
       "count                                                  75   \n",
       "unique                                                 75   \n",
       "top     PhD Research Project: Effect of accelerated ca...   \n",
       "freq                                                    1   \n",
       "\n",
       "                                              project_url  \\\n",
       "count                                                  75   \n",
       "unique                                                 75   \n",
       "top     /phds/project/effect-of-accelerated-carbonatio...   \n",
       "freq                                                    1   \n",
       "\n",
       "            university_name                                  supervisors_info  \\\n",
       "count                    75                                                75   \n",
       "unique                   13                                                59   \n",
       "top     Kingston University  Supervisor: Dr I Centre for Additive Manufacture   \n",
       "freq                     55                                                 4   \n",
       "\n",
       "              applications_info  \n",
       "count                        75  \n",
       "unique                       12  \n",
       "top     Year round applications  \n",
       "freq                         62  "
      ]
     },
     "execution_count": 20,
     "metadata": {},
     "output_type": "execute_result"
    }
   ],
   "source": [
    "# Inspect dataframe (B.N. we ran later tests using subsets of data, hence the results below. If you use the code now, you will receive all entries from FindaPhd)\n",
    "df.describe()\n"
   ]
  }
 ],
 "metadata": {
  "kernelspec": {
   "display_name": "Python 3",
   "language": "python",
   "name": "python3"
  },
  "language_info": {
   "codemirror_mode": {
    "name": "ipython",
    "version": 3
   },
   "file_extension": ".py",
   "mimetype": "text/x-python",
   "name": "python",
   "nbconvert_exporter": "python",
   "pygments_lexer": "ipython3",
   "version": "3.12.0"
  }
 },
 "nbformat": 4,
 "nbformat_minor": 2
}
